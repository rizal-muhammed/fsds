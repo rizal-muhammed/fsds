{
 "cells": [
  {
   "cell_type": "markdown",
   "id": "72162b84",
   "metadata": {},
   "source": [
    "1. In the below elements which of them are values or an expression? eg:- values can be integer or string and expressions will be mathematical operators.  \n",
    "*, 'hello', -87.8, -, /, +, 6\n"
   ]
  },
  {
   "cell_type": "markdown",
   "id": "2d774771",
   "metadata": {},
   "source": [
    "Sol ) ‘hello’ , -87.8 , 6 are values (since ‘hello’ is a string. -87.8 and 6 are integers). * , - , + , / are expressions since those are mathematical operators."
   ]
  },
  {
   "cell_type": "raw",
   "id": "4a1b263c",
   "metadata": {},
   "source": []
  },
  {
   "cell_type": "markdown",
   "id": "df50b3f0",
   "metadata": {},
   "source": [
    "2. What is the difference between string and variable?"
   ]
  },
  {
   "cell_type": "markdown",
   "id": "926b997e",
   "metadata": {},
   "source": [
    "Sol ) String is a sequence of characters of one or more length. On the other hand Variable is a reference to an object. We can assign any type of objects into a Variable. For example, if we have a variable, we can assign either a string, list, number, etc to the Variable. For example If we assigned a string to Variable x, then its data type will be ‘str’"
   ]
  },
  {
   "cell_type": "raw",
   "id": "6b9a338f",
   "metadata": {},
   "source": []
  },
  {
   "cell_type": "markdown",
   "id": "ae3c73c4",
   "metadata": {},
   "source": [
    "3. Describe three different data types."
   ]
  },
  {
   "cell_type": "markdown",
   "id": "bcebeb6e",
   "metadata": {},
   "source": [
    "Sol ) Python supports Numeric data types such as int (integers), float ( floating point numbers ), complex ( complex numbers )  \n",
    "Python supports String data type str  \n",
    "Python supports Sequence types such as list, tuple, etc  \n",
    "Along with this, python also support many more data types including but not limited to,  \n",
    "Boolean data type : bool  \n",
    "Mapping data type : dictionary  \n",
    "Set data type : set  \n",
    "etc   \n"
   ]
  },
  {
   "cell_type": "raw",
   "id": "42e14f77",
   "metadata": {},
   "source": []
  },
  {
   "cell_type": "markdown",
   "id": "3082e093",
   "metadata": {},
   "source": [
    "4. What is an expression made up of? What do all expressions do?"
   ]
  },
  {
   "cell_type": "markdown",
   "id": "c216d48a",
   "metadata": {},
   "source": [
    "Sol ) An expression is made of some combinations of operators and operators. Expressions are evaluated to produce some results  \n",
    "For example : (my_num + 10)*(2**my_num)  is a valid mathematical expression in python which contains some arithmetic operators like addition, multiplication, exponentiation. The variable ‘my_num’ is an operand in the above expression\n"
   ]
  },
  {
   "cell_type": "raw",
   "id": "b62ea39d",
   "metadata": {},
   "source": []
  },
  {
   "cell_type": "markdown",
   "id": "d21f944b",
   "metadata": {},
   "source": [
    "5. This assignment statements, like spam = 10. What is the difference between an expression and a statement?"
   ]
  },
  {
   "cell_type": "markdown",
   "id": "592604cc",
   "metadata": {},
   "source": [
    "An expression is a combination of variables, values, operands which yields some results. On the other hand a statement is as action  \n",
    "For example : (my_num + 10)*(2**my_num)  is a mathematical expression  \n",
    "My_num = my_num + 1 ; here the assignment is a an action, therefore a statement  \n",
    "Simple Print methods are statements\n"
   ]
  },
  {
   "cell_type": "raw",
   "id": "f01b1467",
   "metadata": {},
   "source": []
  },
  {
   "cell_type": "markdown",
   "id": "cd8f2510",
   "metadata": {},
   "source": [
    "6. After running the following code, what does the variable bacon contain?  \n",
    "bacon = 22  \n",
    "bacon + 1"
   ]
  },
  {
   "cell_type": "markdown",
   "id": "fb525f00",
   "metadata": {},
   "source": [
    "Sol ) bacon will still contain 22. Although we added 1 to bacon, we didn’t assign it back to bacon. For the same reason, the value of bacon will still be 22 itself"
   ]
  },
  {
   "cell_type": "markdown",
   "id": "6a6ca351",
   "metadata": {},
   "source": [
    "7. What should the values of the following two terms be?  \n",
    "'spam' + 'spamspam'  \n",
    "'spam' * 3  "
   ]
  },
  {
   "cell_type": "markdown",
   "id": "5be4d796",
   "metadata": {},
   "source": [
    "Sol ) ‘spamspamspam’ and ‘spamspamspam’ respectively"
   ]
  },
  {
   "cell_type": "raw",
   "id": "14da6523",
   "metadata": {},
   "source": []
  },
  {
   "cell_type": "markdown",
   "id": "6d88515b",
   "metadata": {},
   "source": [
    "8. Why is eggs a valid variable name while 100 is invalid?"
   ]
  },
  {
   "cell_type": "markdown",
   "id": "34f5fe60",
   "metadata": {},
   "source": [
    "In python, a variable name should start with a letter or underscore. Variables starting with a number are not valid. For the same reasons, the variable name eggs is valid.  \n",
    "100 is not a valid variable name since it starts with number\n"
   ]
  },
  {
   "cell_type": "raw",
   "id": "d2c120c2",
   "metadata": {},
   "source": []
  },
  {
   "cell_type": "markdown",
   "id": "a0f5ca62",
   "metadata": {},
   "source": [
    "9. What three functions can be used to get the integer, floating-point number, or string version of a value?"
   ]
  },
  {
   "cell_type": "markdown",
   "id": "771a1286",
   "metadata": {},
   "source": [
    "Sol ) int() , float() , str() functions will evaluate to integer, floating-point number, string version of a value respectively"
   ]
  },
  {
   "cell_type": "markdown",
   "id": "b3048562",
   "metadata": {},
   "source": [
    "10. Why does this expression cause an error? How can you fix it?  \n",
    "'I have eaten ' + 99 + ' burritos.'\n"
   ]
  },
  {
   "cell_type": "markdown",
   "id": "cfbb07f4",
   "metadata": {},
   "source": [
    "Sol ) In python we cannot combine integers with strings. That’s what the above line of code is throwing error.  \n",
    "Here ‘I have eaten’ , ‘burritos’ are strings and 99 is an integer\n",
    "We can solve this error by type casting  99 into string  \n",
    "'I have eaten ' + str(99) + ' burritos.'\n"
   ]
  },
  {
   "cell_type": "code",
   "execution_count": null,
   "id": "1d731eb6",
   "metadata": {},
   "outputs": [],
   "source": []
  }
 ],
 "metadata": {
  "kernelspec": {
   "display_name": "Python 3 (ipykernel)",
   "language": "python",
   "name": "python3"
  },
  "language_info": {
   "codemirror_mode": {
    "name": "ipython",
    "version": 3
   },
   "file_extension": ".py",
   "mimetype": "text/x-python",
   "name": "python",
   "nbconvert_exporter": "python",
   "pygments_lexer": "ipython3",
   "version": "3.7.15"
  }
 },
 "nbformat": 4,
 "nbformat_minor": 5
}
