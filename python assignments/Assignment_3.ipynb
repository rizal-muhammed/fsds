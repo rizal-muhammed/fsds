{
  "metadata": {
    "language_info": {
      "codemirror_mode": {
        "name": "python",
        "version": 3
      },
      "file_extension": ".py",
      "mimetype": "text/x-python",
      "name": "python",
      "nbconvert_exporter": "python",
      "pygments_lexer": "ipython3",
      "version": "3.8"
    },
    "kernelspec": {
      "name": "python",
      "display_name": "Python (Pyodide)",
      "language": "python"
    }
  },
  "nbformat_minor": 4,
  "nbformat": 4,
  "cells": [
    {
      "cell_type": "markdown",
      "source": "1. Why are functions advantageous to have in your programs?  \n    \nSol ) Functions can be written once and used many times. Therefore, reusability is a big advantage  \nFunctions helps to divide larger problems into smaller manageable modules  \nWe can use a function without knowing how the function is actually written. So functions help us to use them without knowing the complexity behind them. For the same reason, function can be shared and reused by other programmers and users  ",
      "metadata": {}
    },
    {
      "cell_type": "markdown",
      "source": "2. When does the code in a function run: when it's specified or when it's called?  \n\nSol ) The code is a function run when it is called with actual parameters",
      "metadata": {}
    },
    {
      "cell_type": "markdown",
      "source": "3. What statement creates a function?  \n\nSol) We can create a function with `def` statement ",
      "metadata": {}
    },
    {
      "cell_type": "code",
      "source": "# for example\ndef some_function():\n    pass",
      "metadata": {
        "trusted": true
      },
      "execution_count": 8,
      "outputs": []
    },
    {
      "cell_type": "markdown",
      "source": "4. What is the difference between a function and a function call?\n\nSol) A function is a piece of code that might take some arguments and might do some operations and return something. Usually a function is written to perform some operations and achieve some results.  \nfunction call is the invocation of the function. the function starts execution with the function call  ",
      "metadata": {}
    },
    {
      "cell_type": "markdown",
      "source": "5. How many global scopes are there in a Python program? How many local scopes?\n\nSol) There is one global scope in python. All the variables that are written inside the main body of a python program belongs to global scope. Also the variable written with `global` keyword inside a local scope is also belongs to global scope",
      "metadata": {}
    },
    {
      "cell_type": "code",
      "source": "# for example\ndef some_function():  # local scope\n    global my_global_var  # my_global_var belongs to global scope",
      "metadata": {
        "trusted": true
      },
      "execution_count": 9,
      "outputs": []
    },
    {
      "cell_type": "markdown",
      "source": "local scope or function scope is created when we invoke a function by calling it. Which means when we call a function, a local scope is also created. all the variable inside this function scope belongs to that local scope. Once the function returns something, the local variables are destroyed.",
      "metadata": {}
    },
    {
      "cell_type": "markdown",
      "source": "6. What happens to variables in a local scope when the function call returns?\n\nSol) When a function returns, all the local variables are destroyed",
      "metadata": {}
    },
    {
      "cell_type": "markdown",
      "source": "7. What is the concept of a return value? Is it possible to have a return value in an expression?\n\nSol) A return statement inisde a function is followed by some expressions, which is returned to the caller function. If a return statement is not explicitly cited inside a function, then the function return `None` type. return value is possible in an expression",
      "metadata": {}
    },
    {
      "cell_type": "markdown",
      "source": "8. If a function does not have a return statement, what is the return value of a call to that function?\n\nSol) Then the function will return `None` type",
      "metadata": {}
    },
    {
      "cell_type": "markdown",
      "source": "9. How do you make a function variable refer to the global variable?\n\nSol) We can use `global` keyword to do that",
      "metadata": {}
    },
    {
      "cell_type": "code",
      "source": "# for example\ndef some_func():\n    global some_global_variable",
      "metadata": {
        "trusted": true
      },
      "execution_count": 12,
      "outputs": []
    },
    {
      "cell_type": "markdown",
      "source": "10. What is the data type of None?",
      "metadata": {}
    },
    {
      "cell_type": "code",
      "source": "type(None)",
      "metadata": {
        "trusted": true
      },
      "execution_count": 13,
      "outputs": [
        {
          "execution_count": 13,
          "output_type": "execute_result",
          "data": {
            "text/plain": "NoneType"
          },
          "metadata": {}
        }
      ]
    },
    {
      "cell_type": "markdown",
      "source": "The data type of `None` is NoneType",
      "metadata": {}
    },
    {
      "cell_type": "markdown",
      "source": "11. What does the sentence import areallyourpetsnamederic do?\n\nSol) This sentence tries to import the module `areallyourpetsnamederic`",
      "metadata": {}
    },
    {
      "cell_type": "markdown",
      "source": "12. If you had a bacon() feature in a spam module, what would you call it after importing spam?",
      "metadata": {}
    },
    {
      "cell_type": "raw",
      "source": "import spam as sp\nsp.bacon()",
      "metadata": {}
    },
    {
      "cell_type": "markdown",
      "source": "13. What can you do to save a programme from crashing if it encounters an error?\n\nSol) python supports exception handling with `try`, `except`, `finally` statements.  \nso enclose the code in `try` statement and the it will not crash when an error occured, instead it will raise an exception",
      "metadata": {}
    },
    {
      "cell_type": "markdown",
      "source": "14. What is the purpose of the try clause? What is the purpose of the except clause?\n\nSol) If we place a block of code inside a `try` statement, then the program will not crash even if an error is encountered. Instead an exception is generated. Every `try` block should follow an `except` block which helps us to capture the exception generated.",
      "metadata": {}
    },
    {
      "cell_type": "code",
      "source": "",
      "metadata": {},
      "execution_count": null,
      "outputs": []
    }
  ]
}