{
 "cells": [
  {
   "cell_type": "markdown",
   "id": "a9fc78a1-73d1-413c-90ee-b0f86f79d301",
   "metadata": {},
   "source": [
    "__1. Write a Python program to convert kilometers to miles?__"
   ]
  },
  {
   "cell_type": "markdown",
   "id": "9ab789e1-ed63-4f6a-b4a2-726b7cd5b476",
   "metadata": {},
   "source": [
    "1 km = 0.62137119 miles"
   ]
  },
  {
   "cell_type": "code",
   "execution_count": 1,
   "id": "99ae955d-2f0e-401b-bbba-dafc4ef1bb43",
   "metadata": {},
   "outputs": [],
   "source": [
    "def km_to_miles(km):\n",
    "    miles = 0.62137119 * km\n",
    "    return miles"
   ]
  },
  {
   "cell_type": "code",
   "execution_count": 2,
   "id": "c1fc765a-0fad-4726-a2a0-dccff76f53e9",
   "metadata": {},
   "outputs": [
    {
     "name": "stdin",
     "output_type": "stream",
     "text": [
      "Enter km 100\n"
     ]
    },
    {
     "name": "stdout",
     "output_type": "stream",
     "text": [
      "100.0 kilometers is equal to 62.137119 miles\n"
     ]
    }
   ],
   "source": [
    "km = float(input(\"Enter km\"))\n",
    "miles = km_to_miles(km)\n",
    "print(f\"{km} kilometers is equal to {miles} miles\")"
   ]
  },
  {
   "cell_type": "raw",
   "id": "e138c412-001d-4ea7-baef-d94104a2dbaa",
   "metadata": {},
   "source": []
  },
  {
   "cell_type": "markdown",
   "id": "be0c8dd8-3370-404a-8d80-54b71eb31ed8",
   "metadata": {},
   "source": [
    "__2. Write a Python program to convert Celsius to Fahrenheit?__"
   ]
  },
  {
   "cell_type": "markdown",
   "id": "c2cec671-02dc-4a32-a013-0427d50f531b",
   "metadata": {},
   "source": [
    " °F = °C × (9/5) + 32"
   ]
  },
  {
   "cell_type": "code",
   "execution_count": 3,
   "id": "a24770ba-5864-48e3-81d3-924fda62d03e",
   "metadata": {},
   "outputs": [],
   "source": [
    "def cel_to_far(cel):\n",
    "    far = cel * (9/5) + 32\n",
    "    return far"
   ]
  },
  {
   "cell_type": "code",
   "execution_count": 5,
   "id": "d09d537d-cf60-4bd2-95d6-5d69bb0e9c40",
   "metadata": {},
   "outputs": [
    {
     "name": "stdin",
     "output_type": "stream",
     "text": [
      "Enter celsius 32\n"
     ]
    },
    {
     "name": "stdout",
     "output_type": "stream",
     "text": [
      "32.0 Celsius is equal to 89.6 Fahrenheit\n"
     ]
    }
   ],
   "source": [
    "cel = float(input(\"Enter celsius\"))\n",
    "far = cel_to_far(cel)\n",
    "print(f\"{cel} Celsius is equal to {far} Fahrenheit\")"
   ]
  },
  {
   "cell_type": "raw",
   "id": "0732fefd-8e87-47e1-9112-d8f4c2de9b72",
   "metadata": {},
   "source": []
  },
  {
   "cell_type": "markdown",
   "id": "6665ec9d-b814-42a3-9b4f-c47ebe8443bf",
   "metadata": {},
   "source": [
    "__3. Write a Python program to display calendar?__"
   ]
  },
  {
   "cell_type": "code",
   "execution_count": 41,
   "id": "1e30f58f-f660-4ca2-bac4-8135b05abb55",
   "metadata": {},
   "outputs": [
    {
     "name": "stdin",
     "output_type": "stream",
     "text": [
      "Enter your year 2010\n",
      "Enter yout month number 2\n"
     ]
    },
    {
     "name": "stdout",
     "output_type": "stream",
     "text": [
      "   February 2010\n",
      "Mo Tu We Th Fr Sa Su\n",
      " 1  2  3  4  5  6  7\n",
      " 8  9 10 11 12 13 14\n",
      "15 16 17 18 19 20 21\n",
      "22 23 24 25 26 27 28\n",
      "\n"
     ]
    }
   ],
   "source": [
    "import calendar\n",
    "\n",
    "def print_calendar(year, month):\n",
    "    try:\n",
    "        return calendar.month(year, month)\n",
    "    except Exception as e:\n",
    "        print(\"Enter valid year and month\")\n",
    "        return str(e)\n",
    "\n",
    "\n",
    "year = int(input(\"Enter your year\"))\n",
    "month = int(input(\"Enter yout month number\"))\n",
    "\n",
    "cal = print_calendar(year, month)\n",
    "print(cal)\n"
   ]
  },
  {
   "cell_type": "raw",
   "id": "28eb9281-2cc9-4fd8-bceb-7fb38f0de3e9",
   "metadata": {},
   "source": []
  },
  {
   "cell_type": "markdown",
   "id": "e7f38273-a872-4646-aef0-9b0f195201b0",
   "metadata": {},
   "source": [
    "__4. Write a Python program to solve quadratic equation?__"
   ]
  },
  {
   "cell_type": "markdown",
   "id": "b4d397c0-fece-4768-b06e-49cbf5836a4a",
   "metadata": {},
   "source": [
    "Quadratic equation formula  \n",
    "https://www.khanacademy.org/math/algebra/x2f8bb11595b61c86:quadratic-functions-equations/x2f8bb11595b61c86:quadratic-formula-a1/v/using-the-quadratic-formula#:~:text=The%20quadratic%20formula%20helps%20us,))%2F(2a)%20."
   ]
  },
  {
   "cell_type": "code",
   "execution_count": 30,
   "id": "5d2fff39-2eae-4750-a2f7-7be3a9ed337e",
   "metadata": {},
   "outputs": [],
   "source": [
    "import math"
   ]
  },
  {
   "cell_type": "code",
   "execution_count": 31,
   "id": "df0d92c2-46f5-465d-822a-da4fb9ea1aaa",
   "metadata": {},
   "outputs": [],
   "source": [
    "def quad_sol(a, b, c):\n",
    "    try:\n",
    "        if((b**2-4*a*c) > 0):\n",
    "            sol1 = (-b + math.sqrt((b**2)-4*a*c)) / (2*a)\n",
    "            sol2 = (-b - math.sqrt((b**2)-4*a*c)) / (2*a)\n",
    "            return sol1, sol2\n",
    "        else:\n",
    "            return \"No real solutions\"\n",
    "    except Exception as e:\n",
    "        return str(e)"
   ]
  },
  {
   "cell_type": "code",
   "execution_count": 32,
   "id": "d36cf4e7-389c-4b8a-9250-cbe1a6419989",
   "metadata": {},
   "outputs": [
    {
     "data": {
      "text/plain": [
       "(2.0, -5.0)"
      ]
     },
     "execution_count": 32,
     "metadata": {},
     "output_type": "execute_result"
    }
   ],
   "source": [
    "quad_sol(1, 3, -10)"
   ]
  },
  {
   "cell_type": "code",
   "execution_count": 33,
   "id": "eea4ff47-0669-4169-bcd5-6f4821853674",
   "metadata": {},
   "outputs": [
    {
     "data": {
      "text/plain": [
       "'No real solutions'"
      ]
     },
     "execution_count": 33,
     "metadata": {},
     "output_type": "execute_result"
    }
   ],
   "source": [
    "quad_sol(2, -7, 12)"
   ]
  },
  {
   "cell_type": "raw",
   "id": "4fae7887-6d5f-46f7-ae8e-5c748b899d10",
   "metadata": {},
   "source": []
  },
  {
   "cell_type": "markdown",
   "id": "7af67f2e-c245-4978-bc58-dda14510589e",
   "metadata": {},
   "source": [
    "__5. Write a Python program to swap two variables without temp variable?__"
   ]
  },
  {
   "cell_type": "code",
   "execution_count": 36,
   "id": "e592ce60-f667-442c-bb93-da1e2164e762",
   "metadata": {},
   "outputs": [],
   "source": [
    "def swap(a, b):\n",
    "    b, a = a, b\n",
    "    return a, b"
   ]
  },
  {
   "cell_type": "code",
   "execution_count": 37,
   "id": "fc7755f3-852a-456c-8aa1-fd1f0173ce0d",
   "metadata": {},
   "outputs": [
    {
     "data": {
      "text/plain": [
       "('hi', 'hello')"
      ]
     },
     "execution_count": 37,
     "metadata": {},
     "output_type": "execute_result"
    }
   ],
   "source": [
    "swap(\"hello\", \"hi\")"
   ]
  },
  {
   "cell_type": "code",
   "execution_count": null,
   "id": "221a2f55-9a12-4e47-a7f5-2ff831f0333f",
   "metadata": {},
   "outputs": [],
   "source": []
  }
 ],
 "metadata": {
  "kernelspec": {
   "display_name": "Python 3 (ipykernel)",
   "language": "python",
   "name": "python3"
  },
  "language_info": {
   "codemirror_mode": {
    "name": "ipython",
    "version": 3
   },
   "file_extension": ".py",
   "mimetype": "text/x-python",
   "name": "python",
   "nbconvert_exporter": "python",
   "pygments_lexer": "ipython3",
   "version": "3.10.6"
  }
 },
 "nbformat": 4,
 "nbformat_minor": 5
}
