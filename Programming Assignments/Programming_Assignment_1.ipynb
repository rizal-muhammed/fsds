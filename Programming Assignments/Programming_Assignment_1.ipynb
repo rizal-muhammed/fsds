{
 "cells": [
  {
   "cell_type": "markdown",
   "id": "3fbecd19",
   "metadata": {},
   "source": [
    "1. Write a Python program to print \"Hello Python\""
   ]
  },
  {
   "cell_type": "code",
   "execution_count": 3,
   "id": "a04c6816",
   "metadata": {},
   "outputs": [
    {
     "name": "stdout",
     "output_type": "stream",
     "text": [
      "Hello Python\n"
     ]
    }
   ],
   "source": [
    "print(\"Hello Python\")"
   ]
  },
  {
   "cell_type": "markdown",
   "id": "ca36026e",
   "metadata": {},
   "source": [
    "2. Write a Python program to do arithmetical operations addition and division.?"
   ]
  },
  {
   "cell_type": "code",
   "execution_count": 1,
   "id": "95429675",
   "metadata": {},
   "outputs": [],
   "source": [
    "def func(choice, num1, num2):\n",
    "    if(choice=='add'):\n",
    "        return (num1+num2)\n",
    "    elif(choice=='div'):\n",
    "        try:\n",
    "            return (num1 / num2)\n",
    "        except Exception as e:\n",
    "            return \"Exception occured \"+str(e)\n",
    "    else:\n",
    "        return (\"invalid choice\")"
   ]
  },
  {
   "cell_type": "code",
   "execution_count": 2,
   "id": "05d06eac",
   "metadata": {},
   "outputs": [
    {
     "name": "stdout",
     "output_type": "stream",
     "text": [
      "Enter your first number\n",
      "12\n",
      "Enter your second number\n",
      "0\n",
      "Enter your choice. add/div\n",
      "div\n",
      "The result is Exception occured division by zero\n"
     ]
    }
   ],
   "source": [
    "try:\n",
    "    num1 = int(input(\"Enter your first number\\n\"))\n",
    "    num2 = int(input(\"Enter your second number\\n\"))\n",
    "    choice = input(\"Enter your choice. add/div\\n\")\n",
    "    result = func(choice, num1, num2)\n",
    "    print(f\"The result is {result}\")\n",
    "except Exception as e:\n",
    "    print(e)"
   ]
  },
  {
   "cell_type": "markdown",
   "id": "dd0671d2",
   "metadata": {},
   "source": [
    "3. Write a Python program to find the area of a triangle?"
   ]
  },
  {
   "cell_type": "code",
   "execution_count": 3,
   "id": "1133eb88",
   "metadata": {},
   "outputs": [],
   "source": [
    "import math"
   ]
  },
  {
   "cell_type": "code",
   "execution_count": 4,
   "id": "5e107f8b",
   "metadata": {},
   "outputs": [],
   "source": [
    "def area_triangle(a, b, c):\n",
    "    '''\n",
    "    if a, b, c are the three sides of a triangle, then, the semi-parameter is\n",
    "    s = (a+b+c)/2\n",
    "    and the area is calculated by the following equation\n",
    "    area = √(s(s-a)*(s-b)*(s-c))\n",
    "    '''\n",
    "\n",
    "    try:\n",
    "        # semi-parameter\n",
    "        s = (a + b + c) / 2\n",
    "        area = math.sqrt((s*(s-a)*(s-b)*(s-c)))\n",
    "        return area\n",
    "    except Exception as e:\n",
    "        return str(e)"
   ]
  },
  {
   "cell_type": "code",
   "execution_count": 5,
   "id": "2b8cbe40",
   "metadata": {},
   "outputs": [
    {
     "name": "stdout",
     "output_type": "stream",
     "text": [
      "Enter the side one12\n",
      "Enter the side two23\n",
      "Enter the side three23\n",
      "The area of the triangle is 133.2216198670471\n"
     ]
    }
   ],
   "source": [
    "a = float(input(\"Enter the side one\"))\n",
    "b = float(input(\"Enter the side two\"))\n",
    "c = float(input(\"Enter the side three\"))\n",
    "\n",
    "area = area_triangle(a, b, c)\n",
    "print(f'The area of the triangle is {area}')"
   ]
  },
  {
   "cell_type": "markdown",
   "id": "80509ef1",
   "metadata": {},
   "source": [
    "4. Write a Python program to swap two variables?"
   ]
  },
  {
   "cell_type": "code",
   "execution_count": 6,
   "id": "323fe455",
   "metadata": {},
   "outputs": [
    {
     "name": "stdout",
     "output_type": "stream",
     "text": [
      "Enter your first variablehello\n",
      "Enter your second variablehai\n",
      "Before swapping\n",
      "hello hai\n",
      "After swapping\n",
      "hai hello\n"
     ]
    }
   ],
   "source": [
    "var1 = input(\"Enter your first variable\")\n",
    "var2 = input(\"Enter your second variable\")\n",
    "\n",
    "print(\"Before swapping\")\n",
    "print(var1, var2)\n",
    "\n",
    "var2, var1 = var1, var2\n",
    "\n",
    "print(\"After swapping\")\n",
    "print(var1, var2)"
   ]
  },
  {
   "cell_type": "markdown",
   "id": "88444e62",
   "metadata": {},
   "source": [
    "5. Write a Python program to generate a random number?"
   ]
  },
  {
   "cell_type": "code",
   "execution_count": 7,
   "id": "6f99c976",
   "metadata": {},
   "outputs": [],
   "source": [
    "import random"
   ]
  },
  {
   "cell_type": "code",
   "execution_count": 14,
   "id": "473fa844",
   "metadata": {},
   "outputs": [
    {
     "name": "stdout",
     "output_type": "stream",
     "text": [
      "Enter lower limit\n",
      "12\n",
      "Enter upper limit\n",
      "1000\n",
      "A random integer between 12 and 1000 is 783\n"
     ]
    }
   ],
   "source": [
    "try:\n",
    "    a = int(input(\"Enter lower limit\\n\"))\n",
    "    b = int(input(\"Enter upper limit\\n\"))\n",
    "\n",
    "    rand_int = random.randint(a, b)  # will generate a random integer in the range [a, b]\n",
    "    print(f\"A random integer between {a} and {b} is {rand_int}\")\n",
    "except Exception as e:\n",
    "    pass"
   ]
  },
  {
   "cell_type": "code",
   "execution_count": null,
   "id": "47f8c8d0",
   "metadata": {},
   "outputs": [],
   "source": []
  }
 ],
 "metadata": {
  "kernelspec": {
   "display_name": "Python 3 (ipykernel)",
   "language": "python",
   "name": "python3"
  },
  "language_info": {
   "codemirror_mode": {
    "name": "ipython",
    "version": 3
   },
   "file_extension": ".py",
   "mimetype": "text/x-python",
   "name": "python",
   "nbconvert_exporter": "python",
   "pygments_lexer": "ipython3",
   "version": "3.9.12"
  }
 },
 "nbformat": 4,
 "nbformat_minor": 5
}
